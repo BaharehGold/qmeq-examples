{
 "cells": [
  {
   "cell_type": "markdown",
   "metadata": {},
   "source": [
    "# Appendix 1: Using spin symmetry to optimize the calculations\n",
    "\n",
    "Author: Gediminas Kiršanskas\n",
    "\n",
    "In this Appendix we show how numerical calculations can be optimized by using spin symmetry in the system (if it is present)."
   ]
  },
  {
   "cell_type": "code",
   "execution_count": 1,
   "metadata": {
    "collapsed": true
   },
   "outputs": [],
   "source": [
    "# Prerequisites\n",
    "from __future__ import division, print_function\n",
    "import numpy as np\n",
    "import qmeq"
   ]
  },
  {
   "cell_type": "markdown",
   "metadata": {},
   "source": [
    "## Convention\n",
    "\n",
    "In order to be able to use spin symmetry in the problem the single particle Hamiltonian, tunneling amplitudes, and the lead parameters need to be set up in a particular way. Let us say we have $n=2m$ quantum dot single particle states counting with spin. Then we use the convention that the states with spin up have the labels $0\\ldots m-1$ and the states with spin down have the labels $m\\ldots n-1$. Also there should be no coupling between the up and down states to get correct results.\n",
    "\n",
    "Additionally, when the spin degeneracy is present and we want to have a number $m_{\\alpha}$ of physical leads, then we need to specify parameters for $n_{\\alpha}=2m_{\\alpha}$ number of leads. For example, if there are source and drain leads with chemical potentials $\\mu_{L}=V/2$ and $\\mu_{R}=-V/2$, then we need to specify the following list for chemical potentials:"
   ]
  },
  {
   "cell_type": "code",
   "execution_count": 2,
   "metadata": {
    "collapsed": false
   },
   "outputs": [],
   "source": [
    "vbias = 1.0\n",
    "        #L,up      R,up     L,down    R,down\n",
    "mulst = [vbias/2, -vbias/2, vbias/2, -vbias/2]"
   ]
  },
  {
   "cell_type": "markdown",
   "metadata": {
    "collapsed": true
   },
   "source": [
    "## Example system\n",
    "Random single particle Hamiltonian with SU(2) spin symmetry:"
   ]
  },
  {
   "cell_type": "code",
   "execution_count": 3,
   "metadata": {
    "collapsed": false
   },
   "outputs": [],
   "source": [
    "# Number of single particle states counting with spin\n",
    "nsingle = 4\n",
    "\n",
    "vgate = 30.3\n",
    "# Spin polarized Hamiltonian\n",
    "hsingle0 = np.random.rand(nsingle//2, nsingle//2)\n",
    "hsingle0 = hsingle0+hsingle0.T+vgate*np.eye(nsingle//2)\n",
    "# Introduce spin\n",
    "hsingle = np.kron(np.eye(2), hsingle0)"
   ]
  },
  {
   "cell_type": "markdown",
   "metadata": {},
   "source": [
    "Random inter and intra dot coulomb matrix elements:"
   ]
  },
  {
   "cell_type": "code",
   "execution_count": 4,
   "metadata": {
    "collapsed": false
   },
   "outputs": [
    {
     "name": "stdout",
     "output_type": "stream",
     "text": [
      "[[ 0  1  1  0 10]\n",
      " [ 0  2  2  0 30]\n",
      " [ 0  3  3  0 10]\n",
      " [ 1  2  2  1 10]\n",
      " [ 1  3  3  1 30]\n",
      " [ 2  3  3  2 10]]\n"
     ]
    }
   ],
   "source": [
    "uinter = 10\n",
    "uintra = 30\n",
    "coulomb = np.zeros((nsingle*(nsingle-1)//2, 5), dtype=int)\n",
    "ind = 0\n",
    "for j1 in range(nsingle):\n",
    "    for j2 in range(j1+1, nsingle):\n",
    "        if j2 == nsingle//2+j1:\n",
    "            coulomb[ind] = [j1, j2, j2, j1, uintra]\n",
    "        else:\n",
    "            coulomb[ind] = [j1, j2, j2, j1, uinter]\n",
    "        ind += 1\n",
    "print(coulomb)"
   ]
  },
  {
   "cell_type": "markdown",
   "metadata": {},
   "source": [
    "Lead parameters and random tunneling amplitudes:"
   ]
  },
  {
   "cell_type": "code",
   "execution_count": 5,
   "metadata": {
    "collapsed": false
   },
   "outputs": [],
   "source": [
    "nleads = 4\n",
    "tleads0 = 0.1*np.random.rand(2, nsingle//2)\n",
    "tleads = np.kron(np.eye(2), tleads0)\n",
    "\n",
    "vbias = 0.5\n",
    "temp = 5.0\n",
    "dband = 100.0\n",
    "mulst = [vbias/2, -vbias/2, vbias/2, -vbias/2]\n",
    "tlst  = [temp, temp, temp, temp]"
   ]
  },
  {
   "cell_type": "markdown",
   "metadata": {},
   "source": [
    "Now we set up three systems where no symmetries are used (*indexing='charge'*), just spin projection symmetry $S_{z}$ (*indexing='sz'*) is used, and a full spin symmetry is used (*indexing='ssq'*):"
   ]
  },
  {
   "cell_type": "code",
   "execution_count": 6,
   "metadata": {
    "collapsed": false
   },
   "outputs": [],
   "source": [
    "sys_charge = qmeq.Builder(nsingle, hsingle, coulomb, nleads, tleads, mulst, tlst, dband, indexing='charge', kerntype='1vN')\n",
    "sys_sz = qmeq.Builder(nsingle, hsingle, coulomb, nleads, tleads, mulst, tlst, dband, indexing='sz', kerntype='1vN')\n",
    "sys_ssq = qmeq.Builder(nsingle, hsingle, coulomb, nleads, tleads, mulst, tlst, dband, indexing='ssq', kerntype='1vN')"
   ]
  },
  {
   "cell_type": "markdown",
   "metadata": {},
   "source": [
    "In all three cases we obtain the same current:"
   ]
  },
  {
   "cell_type": "code",
   "execution_count": 7,
   "metadata": {
    "collapsed": false
   },
   "outputs": [
    {
     "name": "stdout",
     "output_type": "stream",
     "text": [
      "[  1.16916090e-06  -1.16916090e-06   1.16916090e-06  -1.16916090e-06]\n",
      "[  1.16916090e-06  -1.16916090e-06   1.16916090e-06  -1.16916090e-06]\n",
      "[  1.16916090e-06  -1.16916090e-06   1.16916090e-06  -1.16916090e-06]\n"
     ]
    }
   ],
   "source": [
    "sys_charge.solve()\n",
    "sys_sz.solve()\n",
    "sys_ssq.solve()\n",
    "print(sys_charge.current)\n",
    "print(sys_sz.current)\n",
    "print(sys_ssq.current)"
   ]
  },
  {
   "cell_type": "markdown",
   "metadata": {},
   "source": [
    "However, the matrix size of Liouvillian (master equation kernel) is reduced for 'sz' and 'ssq' indexing compared to 'charge' indexing:"
   ]
  },
  {
   "cell_type": "code",
   "execution_count": 8,
   "metadata": {
    "collapsed": false
   },
   "outputs": [
    {
     "name": "stdout",
     "output_type": "stream",
     "text": [
      "(70, 70)\n",
      "(36, 36)\n",
      "(20, 20)\n"
     ]
    }
   ],
   "source": [
    "print(sys_charge.kern.shape)\n",
    "print(sys_sz.kern.shape)\n",
    "print(sys_ssq.kern.shape)"
   ]
  },
  {
   "cell_type": "markdown",
   "metadata": {},
   "source": [
    "This can be achieved, because a lot of reduced density matrix elements are zero or are related by symmetry:"
   ]
  },
  {
   "cell_type": "code",
   "execution_count": 9,
   "metadata": {
    "collapsed": false
   },
   "outputs": [
    {
     "name": "stdout",
     "output_type": "stream",
     "text": [
      "(70,)\n",
      "(36,)\n",
      "(20,)\n"
     ]
    }
   ],
   "source": [
    "print(sys_charge.phi0.shape)\n",
    "print(sys_sz.phi0.shape)\n",
    "print(sys_ssq.phi0.shape)"
   ]
  },
  {
   "cell_type": "code",
   "execution_count": null,
   "metadata": {
    "collapsed": true
   },
   "outputs": [],
   "source": []
  }
 ],
 "metadata": {
  "kernelspec": {
   "display_name": "Python 2",
   "language": "python",
   "name": "python2"
  },
  "language_info": {
   "codemirror_mode": {
    "name": "ipython",
    "version": 2
   },
   "file_extension": ".py",
   "mimetype": "text/x-python",
   "name": "python",
   "nbconvert_exporter": "python",
   "pygments_lexer": "ipython2",
   "version": "2.7.12"
  }
 },
 "nbformat": 4,
 "nbformat_minor": 0
}
